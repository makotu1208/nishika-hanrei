{
 "cells": [
  {
   "cell_type": "code",
   "execution_count": 3,
   "id": "pregnant-hierarchy",
   "metadata": {},
   "outputs": [
    {
     "name": "stdout",
     "output_type": "stream",
     "text": [
      "Requirement already satisfied: pip in /home/ec2-user/anaconda3/envs/pytorch_p36/lib/python3.6/site-packages (21.0.1)\n",
      "Requirement already satisfied: spacy in /home/ec2-user/anaconda3/envs/pytorch_p36/lib/python3.6/site-packages (2.3.2)\n",
      "Requirement already satisfied: murmurhash<1.1.0,>=0.28.0 in /home/ec2-user/anaconda3/envs/pytorch_p36/lib/python3.6/site-packages (from spacy) (1.0.4)\n",
      "Requirement already satisfied: cymem<2.1.0,>=2.0.2 in /home/ec2-user/anaconda3/envs/pytorch_p36/lib/python3.6/site-packages (from spacy) (2.0.4)\n",
      "Requirement already satisfied: setuptools in /home/ec2-user/anaconda3/envs/pytorch_p36/lib/python3.6/site-packages (from spacy) (45.2.0.post20200210)\n",
      "Requirement already satisfied: tqdm<5.0.0,>=4.38.0 in /home/ec2-user/anaconda3/envs/pytorch_p36/lib/python3.6/site-packages (from spacy) (4.42.1)\n",
      "Requirement already satisfied: numpy>=1.15.0 in /home/ec2-user/anaconda3/envs/pytorch_p36/lib/python3.6/site-packages (from spacy) (1.19.5)\n",
      "Requirement already satisfied: requests<3.0.0,>=2.13.0 in /home/ec2-user/anaconda3/envs/pytorch_p36/lib/python3.6/site-packages (from spacy) (2.25.1)\n",
      "Requirement already satisfied: wasabi<1.1.0,>=0.4.0 in /home/ec2-user/anaconda3/envs/pytorch_p36/lib/python3.6/site-packages (from spacy) (0.8.0)\n",
      "Requirement already satisfied: preshed<3.1.0,>=3.0.2 in /home/ec2-user/anaconda3/envs/pytorch_p36/lib/python3.6/site-packages (from spacy) (3.0.4)\n",
      "Requirement already satisfied: catalogue<1.1.0,>=0.0.7 in /home/ec2-user/anaconda3/envs/pytorch_p36/lib/python3.6/site-packages (from spacy) (1.0.0)\n",
      "Requirement already satisfied: srsly<1.1.0,>=1.0.2 in /home/ec2-user/anaconda3/envs/pytorch_p36/lib/python3.6/site-packages (from spacy) (1.0.4)\n",
      "Requirement already satisfied: plac<1.2.0,>=0.9.6 in /home/ec2-user/anaconda3/envs/pytorch_p36/lib/python3.6/site-packages (from spacy) (0.9.6)\n",
      "Requirement already satisfied: blis<0.5.0,>=0.4.0 in /home/ec2-user/anaconda3/envs/pytorch_p36/lib/python3.6/site-packages (from spacy) (0.4.1)\n",
      "Requirement already satisfied: thinc==7.4.1 in /home/ec2-user/anaconda3/envs/pytorch_p36/lib/python3.6/site-packages (from spacy) (7.4.1)\n",
      "Requirement already satisfied: importlib-metadata>=0.20 in /home/ec2-user/anaconda3/envs/pytorch_p36/lib/python3.6/site-packages (from catalogue<1.1.0,>=0.0.7->spacy) (3.4.0)\n",
      "Requirement already satisfied: typing-extensions>=3.6.4 in /home/ec2-user/anaconda3/envs/pytorch_p36/lib/python3.6/site-packages (from importlib-metadata>=0.20->catalogue<1.1.0,>=0.0.7->spacy) (3.7.4.3)\n",
      "Requirement already satisfied: zipp>=0.5 in /home/ec2-user/anaconda3/envs/pytorch_p36/lib/python3.6/site-packages (from importlib-metadata>=0.20->catalogue<1.1.0,>=0.0.7->spacy) (3.4.0)\n",
      "Requirement already satisfied: certifi>=2017.4.17 in /home/ec2-user/anaconda3/envs/pytorch_p36/lib/python3.6/site-packages (from requests<3.0.0,>=2.13.0->spacy) (2020.12.5)\n",
      "Requirement already satisfied: idna<3,>=2.5 in /home/ec2-user/anaconda3/envs/pytorch_p36/lib/python3.6/site-packages (from requests<3.0.0,>=2.13.0->spacy) (2.10)\n",
      "Requirement already satisfied: chardet<5,>=3.0.2 in /home/ec2-user/anaconda3/envs/pytorch_p36/lib/python3.6/site-packages (from requests<3.0.0,>=2.13.0->spacy) (4.0.0)\n",
      "Requirement already satisfied: urllib3<1.27,>=1.21.1 in /home/ec2-user/anaconda3/envs/pytorch_p36/lib/python3.6/site-packages (from requests<3.0.0,>=2.13.0->spacy) (1.26.2)\n",
      "Collecting ginza\n",
      "  Downloading ginza-4.0.5.tar.gz (20 kB)\n",
      "Requirement already satisfied: spacy<3.0.0,>=2.3.2 in /home/ec2-user/anaconda3/envs/pytorch_p36/lib/python3.6/site-packages (from ginza) (2.3.2)\n",
      "Collecting ja_ginza<4.1.0,>=4.0.0\n",
      "  Downloading ja_ginza-4.0.0.tar.gz (51.5 MB)\n",
      "\u001b[K     |████████████████████████████████| 51.5 MB 17.5 MB/s eta 0:00:01\n",
      "\u001b[?25hCollecting SudachiPy>=0.4.9\n",
      "  Using cached SudachiPy-0.5.1.tar.gz (69 kB)\n",
      "Collecting SudachiDict-core>=20200330\n",
      "  Downloading SudachiDict-core-20201223.post1.tar.gz (8.8 kB)\n",
      "Requirement already satisfied: catalogue<1.1.0,>=0.0.7 in /home/ec2-user/anaconda3/envs/pytorch_p36/lib/python3.6/site-packages (from spacy<3.0.0,>=2.3.2->ginza) (1.0.0)\n",
      "Requirement already satisfied: wasabi<1.1.0,>=0.4.0 in /home/ec2-user/anaconda3/envs/pytorch_p36/lib/python3.6/site-packages (from spacy<3.0.0,>=2.3.2->ginza) (0.8.0)\n",
      "Requirement already satisfied: preshed<3.1.0,>=3.0.2 in /home/ec2-user/anaconda3/envs/pytorch_p36/lib/python3.6/site-packages (from spacy<3.0.0,>=2.3.2->ginza) (3.0.4)\n",
      "Requirement already satisfied: thinc==7.4.1 in /home/ec2-user/anaconda3/envs/pytorch_p36/lib/python3.6/site-packages (from spacy<3.0.0,>=2.3.2->ginza) (7.4.1)\n",
      "Requirement already satisfied: blis<0.5.0,>=0.4.0 in /home/ec2-user/anaconda3/envs/pytorch_p36/lib/python3.6/site-packages (from spacy<3.0.0,>=2.3.2->ginza) (0.4.1)\n",
      "Requirement already satisfied: srsly<1.1.0,>=1.0.2 in /home/ec2-user/anaconda3/envs/pytorch_p36/lib/python3.6/site-packages (from spacy<3.0.0,>=2.3.2->ginza) (1.0.4)\n",
      "Requirement already satisfied: requests<3.0.0,>=2.13.0 in /home/ec2-user/anaconda3/envs/pytorch_p36/lib/python3.6/site-packages (from spacy<3.0.0,>=2.3.2->ginza) (2.25.1)\n",
      "Requirement already satisfied: numpy>=1.15.0 in /home/ec2-user/anaconda3/envs/pytorch_p36/lib/python3.6/site-packages (from spacy<3.0.0,>=2.3.2->ginza) (1.19.5)\n",
      "Requirement already satisfied: murmurhash<1.1.0,>=0.28.0 in /home/ec2-user/anaconda3/envs/pytorch_p36/lib/python3.6/site-packages (from spacy<3.0.0,>=2.3.2->ginza) (1.0.4)\n",
      "Requirement already satisfied: plac<1.2.0,>=0.9.6 in /home/ec2-user/anaconda3/envs/pytorch_p36/lib/python3.6/site-packages (from spacy<3.0.0,>=2.3.2->ginza) (0.9.6)\n",
      "Requirement already satisfied: tqdm<5.0.0,>=4.38.0 in /home/ec2-user/anaconda3/envs/pytorch_p36/lib/python3.6/site-packages (from spacy<3.0.0,>=2.3.2->ginza) (4.42.1)\n",
      "Requirement already satisfied: setuptools in /home/ec2-user/anaconda3/envs/pytorch_p36/lib/python3.6/site-packages (from spacy<3.0.0,>=2.3.2->ginza) (45.2.0.post20200210)\n",
      "Requirement already satisfied: cymem<2.1.0,>=2.0.2 in /home/ec2-user/anaconda3/envs/pytorch_p36/lib/python3.6/site-packages (from spacy<3.0.0,>=2.3.2->ginza) (2.0.4)\n",
      "Requirement already satisfied: importlib-metadata>=0.20 in /home/ec2-user/anaconda3/envs/pytorch_p36/lib/python3.6/site-packages (from catalogue<1.1.0,>=0.0.7->spacy<3.0.0,>=2.3.2->ginza) (3.4.0)\n",
      "Requirement already satisfied: typing-extensions>=3.6.4 in /home/ec2-user/anaconda3/envs/pytorch_p36/lib/python3.6/site-packages (from importlib-metadata>=0.20->catalogue<1.1.0,>=0.0.7->spacy<3.0.0,>=2.3.2->ginza) (3.7.4.3)\n",
      "Requirement already satisfied: zipp>=0.5 in /home/ec2-user/anaconda3/envs/pytorch_p36/lib/python3.6/site-packages (from importlib-metadata>=0.20->catalogue<1.1.0,>=0.0.7->spacy<3.0.0,>=2.3.2->ginza) (3.4.0)\n",
      "Requirement already satisfied: urllib3<1.27,>=1.21.1 in /home/ec2-user/anaconda3/envs/pytorch_p36/lib/python3.6/site-packages (from requests<3.0.0,>=2.13.0->spacy<3.0.0,>=2.3.2->ginza) (1.26.2)\n",
      "Requirement already satisfied: certifi>=2017.4.17 in /home/ec2-user/anaconda3/envs/pytorch_p36/lib/python3.6/site-packages (from requests<3.0.0,>=2.13.0->spacy<3.0.0,>=2.3.2->ginza) (2020.12.5)\n",
      "Requirement already satisfied: chardet<5,>=3.0.2 in /home/ec2-user/anaconda3/envs/pytorch_p36/lib/python3.6/site-packages (from requests<3.0.0,>=2.13.0->spacy<3.0.0,>=2.3.2->ginza) (4.0.0)\n",
      "Requirement already satisfied: idna<3,>=2.5 in /home/ec2-user/anaconda3/envs/pytorch_p36/lib/python3.6/site-packages (from requests<3.0.0,>=2.13.0->spacy<3.0.0,>=2.3.2->ginza) (2.10)\n",
      "Requirement already satisfied: sortedcontainers~=2.1.0 in /home/ec2-user/anaconda3/envs/pytorch_p36/lib/python3.6/site-packages (from SudachiPy>=0.4.9->ginza) (2.1.0)\n",
      "Collecting dartsclone~=0.9.0\n",
      "  Downloading dartsclone-0.9.0-cp36-cp36m-manylinux1_x86_64.whl (474 kB)\n",
      "\u001b[K     |████████████████████████████████| 474 kB 49.4 MB/s eta 0:00:01\n",
      "\u001b[?25hRequirement already satisfied: Cython in /home/ec2-user/anaconda3/envs/pytorch_p36/lib/python3.6/site-packages (from dartsclone~=0.9.0->SudachiPy>=0.4.9->ginza) (0.29.15)\n",
      "Building wheels for collected packages: ginza, ja-ginza, SudachiDict-core, SudachiPy\n",
      "  Building wheel for ginza (setup.py) ... \u001b[?25ldone\n",
      "\u001b[?25h  Created wheel for ginza: filename=ginza-4.0.5-py3-none-any.whl size=15897 sha256=5b522d442a7f320a5cc379a5f729a0945c377c46300d98b4a2b90fd3f9f7c258\n",
      "  Stored in directory: /home/ec2-user/.cache/pip/wheels/6d/9c/11/9efe0a85ed9334ca3dbebaebebfec9087220c02688b1308424\n",
      "  Building wheel for ja-ginza (setup.py) ... \u001b[?25ldone\n",
      "\u001b[?25h  Created wheel for ja-ginza: filename=ja_ginza-4.0.0-py3-none-any.whl size=51530813 sha256=71aa9299b071fd8f18558b71ba0ff06fcbe3aa9d7520cc77199e34c5385a53e3\n",
      "  Stored in directory: /home/ec2-user/.cache/pip/wheels/e8/00/3d/fdac6c05ee731c6418da1216a7f8d00565b8d641a027c56077\n",
      "  Building wheel for SudachiDict-core (setup.py) ... \u001b[?25ldone\n",
      "\u001b[?25h  Created wheel for SudachiDict-core: filename=SudachiDict_core-20201223.post1-py3-none-any.whl size=71405681 sha256=e2ea691f89c9b09cd1eb6812d440253d2b2942f42bd5e4bc5ced50a24eafb851\n",
      "  Stored in directory: /home/ec2-user/.cache/pip/wheels/b8/cb/15/7f98c67eda4a12c1241045861dc1d7d29fb2b84456c207f113\n",
      "  Building wheel for SudachiPy (setup.py) ... \u001b[?25ldone\n",
      "\u001b[?25h  Created wheel for SudachiPy: filename=SudachiPy-0.5.1-cp36-cp36m-linux_x86_64.whl size=328837 sha256=d6a50d07652caabbaedec97f561367c11f1e309d772dabdec4e1139f3e8298b1\n",
      "  Stored in directory: /home/ec2-user/.cache/pip/wheels/ea/f4/0c/e13476e4b80bf2f09c54abeab860f7ac366da0c4c7ff938bf6\n",
      "Successfully built ginza ja-ginza SudachiDict-core SudachiPy\n",
      "Installing collected packages: dartsclone, SudachiPy, SudachiDict-core, ja-ginza, ginza\n",
      "Successfully installed SudachiDict-core-20201223.post1 SudachiPy-0.5.1 dartsclone-0.9.0 ginza-4.0.5 ja-ginza-4.0.0\n"
     ]
    }
   ],
   "source": [
    "!pip install --upgrade pip\n",
    "!pip install spacy\n",
    "!pip install ginza\n",
    "!pip install regex"
   ]
  },
  {
   "cell_type": "code",
   "execution_count": 7,
   "id": "tracked-authority",
   "metadata": {},
   "outputs": [],
   "source": [
    "import subprocess\n",
    "from glob import glob\n",
    "\n",
    "import pandas as pd\n",
    "import regex\n",
    "import spacy\n",
    "from sklearn.model_selection import train_test_split\n",
    "\n",
    "nlp = spacy.load('ja_ginza')\n",
    "\n",
    "train_paths = glob('../data/input/train/*')\n",
    "test_paths = glob('../data/input/test/*')"
   ]
  },
  {
   "cell_type": "code",
   "execution_count": null,
   "id": "lovely-tonight",
   "metadata": {},
   "outputs": [],
   "source": []
  }
 ],
 "metadata": {
  "kernelspec": {
   "display_name": "conda_pytorch_p36",
   "language": "python",
   "name": "conda_pytorch_p36"
  },
  "language_info": {
   "codemirror_mode": {
    "name": "ipython",
    "version": 3
   },
   "file_extension": ".py",
   "mimetype": "text/x-python",
   "name": "python",
   "nbconvert_exporter": "python",
   "pygments_lexer": "ipython3",
   "version": "3.6.10"
  }
 },
 "nbformat": 4,
 "nbformat_minor": 5
}
